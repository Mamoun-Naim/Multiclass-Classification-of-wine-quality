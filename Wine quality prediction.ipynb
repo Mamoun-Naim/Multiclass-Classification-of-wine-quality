{
 "cells": [
  {
   "cell_type": "markdown",
   "id": "54590b7f-6878-43bb-90ff-02fe1f8d65fa",
   "metadata": {},
   "source": [
    "# <font color=blueviolet>Multiclass Classification of wine quality </font>"
   ]
  },
  {
   "cell_type": "markdown",
   "id": "9b1bdfe4-e7c8-427a-9564-b28561a70f2f",
   "metadata": {},
   "source": [
    "<font color=black>The quality of the wine is an indicator of the true taste of the wine, which mainly depends on its chemical composition, but also on its color and aroma.<br>In this analysis, there are two sets of data related to red and white wine samples. The aim is to model wine quality based on personal taste using measured physico-chemical values.</font>"
   ]
  },
  {
   "cell_type": "markdown",
   "id": "4cd952f9-3d07-470b-b1a7-2d0a4170294f",
   "metadata": {},
   "source": [
    "<font color=blue>In this third and last part of the project, The best model is used to predict the quality of new data.</font><br><br>\n",
    "<font color=black>The used modules in this project are first to be imported.</font>"
   ]
  },
  {
   "cell_type": "code",
   "execution_count": 1,
   "id": "c2dba807-49c2-4311-92bd-7c57562bfe5f",
   "metadata": {},
   "outputs": [],
   "source": [
    "# Importing Libraries\n",
    "import pandas as pd\n",
    "import numpy as np\n",
    "import pickle"
   ]
  },
  {
   "cell_type": "markdown",
   "id": "f27b5fb9-86b4-4a2b-a389-c53a4107ac44",
   "metadata": {
    "tags": []
   },
   "source": [
    "## <font color=green>Cleaning and transforming the data</font>"
   ]
  },
  {
   "cell_type": "markdown",
   "id": "2c4d5d84-4538-4cc1-a873-5fd01eb9c8eb",
   "metadata": {},
   "source": [
    "<font color=blue>The clean-data function aims to replace the NaNs values with the median calculated from the training set, and then transforms the skewed features using the log function.</font>"
   ]
  },
  {
   "cell_type": "code",
   "execution_count": 2,
   "id": "e757476c-c7b4-4442-907a-38741941ca77",
   "metadata": {},
   "outputs": [],
   "source": [
    "# Dealing with NaNs and transformin the skewed features\n",
    "\n",
    "def clean_transform_data(df):\n",
    "    \"\"\"Returns cleaned DataFrame.\n",
    "    \n",
    "    Args: \n",
    "        df (pd.DataFrame) : uncleaned DataFrame\n",
    "        \n",
    "    Returns:\n",
    "        df  (pd.DataFrame) : cleaned DataFrame\n",
    "    \n",
    "    \"\"\"\n",
    "    \n",
    "    # medians of various fetures\n",
    "    median={'fixed acidity': 7.0, 'volatile acidity': 0.29, 'citric acid': 0.31, 'residual sugar': 3.0,\n",
    "            'chlorides': 0.047, 'free sulfur dioxide': 29.0, 'total sulfur dioxide': 118.0,\n",
    "            'density': 0.99489,'pH': 3.21,'sulphates': 0.51,'alcohol': 10.3,'quality': 6.0}\n",
    "    \n",
    "    # replace NaN be corrsponding Median\n",
    "    for i in range(1,df.shape[1]-1):\n",
    "        col_name=df.columns[i]\n",
    "        df[col_name] = df[col_name].fillna(median[col_name])\n",
    "    \n",
    "   # Applying log function to the heavily skewed features\n",
    "    skewed_features=['residual sugar', 'chlorides', 'free sulfur dioxide', 'total sulfur dioxide', 'sulphates']\n",
    "    for feature in skewed_features:\n",
    "        df[feature] = np.log(df[feature]) \n",
    "\n",
    "    return df"
   ]
  },
  {
   "cell_type": "markdown",
   "id": "2f574260-7e00-4c2c-aa06-28dd467b1d99",
   "metadata": {},
   "source": [
    "### <font color=green>Main code</font><br>\n",
    "<font color=black>The prediction process involves the following steps:</font><br>\n",
    "<font color=blue>1) Reading the data from a CSV file into a data frame. </font><br>\n",
    "<font color=blue>2) Clean and transform the data frame.</font><br>\n",
    "<font color=blue>3) Reading the best model from a pickle file.</font><br>\n",
    "<font color=blue>4) Wine quality prediction.</font><br>\n",
    "<font color=blue>5) Save the prediction results to an external file.</font>"
   ]
  },
  {
   "cell_type": "code",
   "execution_count": 3,
   "id": "c8a7ba4a-66c1-4809-b794-2ae04489cdb4",
   "metadata": {},
   "outputs": [
    {
     "name": "stdin",
     "output_type": "stream",
     "text": [
      "enter the name of the wine file, with the path if required aim_red_wine.csv\n"
     ]
    }
   ],
   "source": [
    "# request the file name (with its path if in other directory)\n",
    "wine_file = input('enter the name of the wine file, with the path if required')\n",
    "\n",
    "# reading the data from file into dataframe\n",
    "wine = pd.read_csv(wine_file, sep=\";\")\n",
    "\n",
    "# cleaing and transforming the data\n",
    "wine=clean_transform_data(wine)\n",
    "\n",
    "# reading the best model\n",
    "opt_model = pickle.load(open(\"opt_model.p\",'rb')) \n",
    "\n",
    "# applying the prediction model\n",
    "predictions = opt_model.predict(wine)\n",
    "\n",
    "# Save predictions as a file with the same name as the data file after adding \"y_pred\"\n",
    "pred_file=wine_file[:-4]+'_pred.csv'\n",
    "pd.Series(predictions).to_csv(pred_file, index=False)"
   ]
  }
 ],
 "metadata": {
  "kernelspec": {
   "display_name": "Python 3 (ipykernel)",
   "language": "python",
   "name": "python3"
  },
  "language_info": {
   "codemirror_mode": {
    "name": "ipython",
    "version": 3
   },
   "file_extension": ".py",
   "mimetype": "text/x-python",
   "name": "python",
   "nbconvert_exporter": "python",
   "pygments_lexer": "ipython3",
   "version": "3.8.10"
  }
 },
 "nbformat": 4,
 "nbformat_minor": 5
}
