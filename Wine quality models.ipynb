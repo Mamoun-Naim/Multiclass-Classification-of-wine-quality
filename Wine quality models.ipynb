{
 "cells": [
  {
   "cell_type": "markdown",
   "id": "e8d84f8e-b5d2-46d6-a3fc-c0dfed74d487",
   "metadata": {},
   "source": [
    "# <font color=blueviolet>Multiclass Classification of wine quality </font>"
   ]
  },
  {
   "cell_type": "markdown",
   "id": "9f987d2f-29e3-4c4d-ad9b-7fd5c2b6c4f7",
   "metadata": {},
   "source": [
    "<font color=black>The quality of the wine is an indicator of the true taste of the wine, which mainly depends on its chemical composition, but also on its color and aroma.<br>In this analysis, there are two sets of data related to red and white wine samples. The aim is to model wine quality based on personal taste using measured physico-chemical values.</font>"
   ]
  },
  {
   "cell_type": "markdown",
   "id": "9fa87782-f1a0-4b40-b056-d4c444fd3cf9",
   "metadata": {},
   "source": [
    "<font color=blue>In this second part of the project, different prediction models are trained and then compared with each other. The best model hyperparameters are fine-tuned and stored for later quality prediction of other data.</font><br><br>\n",
    "<font color=black>The used modules in this project are first to be imported.</font>"
   ]
  },
  {
   "cell_type": "code",
   "execution_count": 1,
   "id": "c2dba807-49c2-4311-92bd-7c57562bfe5f",
   "metadata": {},
   "outputs": [
    {
     "name": "stderr",
     "output_type": "stream",
     "text": [
      "2023-06-14 15:40:48.279997: W tensorflow/stream_executor/platform/default/dso_loader.cc:60] Could not load dynamic library 'libcudart.so.11.0'; dlerror: libcudart.so.11.0: cannot open shared object file: No such file or directory\n",
      "2023-06-14 15:40:48.280034: I tensorflow/stream_executor/cuda/cudart_stub.cc:29] Ignore above cudart dlerror if you do not have a GPU set up on your machine.\n"
     ]
    }
   ],
   "source": [
    "# Importing Libraries\n",
    "import pandas as pd\n",
    "import numpy as np\n",
    "import matplotlib.pyplot as plt\n",
    "import seaborn as sns\n",
    "import pickle\n",
    "import warnings\n",
    "\n",
    "from sklearn.linear_model import LinearRegression\n",
    "from imblearn.over_sampling import SMOTE\n",
    "from sklearn.decomposition import PCA\n",
    "from sklearn.linear_model import LogisticRegression\n",
    "from sklearn.preprocessing import StandardScaler\n",
    "from sklearn.metrics import accuracy_score, mean_squared_error\n",
    "from sklearn.model_selection import train_test_split, GridSearchCV\n",
    "from sklearn.ensemble import RandomForestClassifier, RandomForestRegressor\n",
    "from tensorflow.keras.models import Sequential\n",
    "from tensorflow.keras.layers import Dense\n",
    "from sklearn.pipeline import Pipeline\n",
    "\n",
    "warnings.filterwarnings('ignore')"
   ]
  },
  {
   "cell_type": "markdown",
   "id": "c5dcd1af-f6b2-4c37-a9df-ea2e0f3df277",
   "metadata": {},
   "source": [
    "<font color=blue>There are two CSV files for red and white wine. These are read and stored as DataFrames and then merged after adding a column for wine type.</font>"
   ]
  },
  {
   "cell_type": "code",
   "execution_count": 2,
   "id": "ce7fc42b-a7bc-40fa-9364-d1e0618e6480",
   "metadata": {},
   "outputs": [],
   "source": [
    "# read the two files\n",
    "red_wine = pd.read_csv(\"winequality-red.csv\", sep=\";\")\n",
    "white_wine = pd.read_csv(\"winequality-white.csv\", sep=\";\")\n",
    "\n",
    "# adding the type of wine\n",
    "red_wine.insert(0, \"type\", 1)\n",
    "white_wine.insert(0, \"type\", 0)\n",
    "\n",
    "# merging the two files\n",
    "wine = red_wine.append(white_wine, ignore_index=True)"
   ]
  },
  {
   "cell_type": "markdown",
   "id": "af6f8868-3c6b-40d3-9e8b-d126e8e942ad",
   "metadata": {},
   "source": [
    "## <font color=green>Classes balancing</font>"
   ]
  },
  {
   "cell_type": "markdown",
   "id": "26f18e91-685b-4217-86f6-25d6d11015a3",
   "metadata": {},
   "source": [
    "<font color=blue>EDA has shown that the classes are very unbalanced. And since some machine learning models don't have the class_weight='balanced' argument, they need an external class balancing tool like SMOTE.</font>"
   ]
  },
  {
   "cell_type": "code",
   "execution_count": 3,
   "id": "2c961786-b9dc-4632-8616-8c05f08de2ff",
   "metadata": {},
   "outputs": [],
   "source": [
    "# classes balancing using SMOTE\n",
    "def resample_data_smote(features, target):\n",
    "    \"\"\"Using SMOTE for the imbalanced data set.\n",
    "        Returns balanced Data Set.\n",
    "    Args: \n",
    "        features (pd.DataFrame) : unbalanced DataFrame\n",
    "        target (pd.DataFrame) : unbalanced DataFrame\n",
    "    Returns:\n",
    "        features (pd.DataFrame) : balanced DataFrame\n",
    "        target (pd.DataFrame) : balanced DataFrame\n",
    "    \"\"\"\n",
    "    #initiate Smote\n",
    "    smotesampler = SMOTE(random_state=42,k_neighbors=4)\n",
    "    #fit and resample\n",
    "    features, target = smotesampler.fit_resample(features, target)\n",
    "    \n",
    "    return features, target"
   ]
  },
  {
   "cell_type": "markdown",
   "id": "ca969f9d-285a-4f21-bba9-70bf23f28f5e",
   "metadata": {
    "tags": []
   },
   "source": [
    "## <font color=green>Data preparing</font>"
   ]
  },
  {
   "cell_type": "markdown",
   "id": "e30064fc-bd59-4253-b6b7-31eb93b022d4",
   "metadata": {},
   "source": [
    "<font color=blue>This part contains the following steps:</font><br>\n",
    "<font color=blue>1) Calculating the median for each feature. These values will be applied in the function \"clean_data\".</font><br>\n",
    "<font color=blue>2) Applying the log function to skewed features.</font><br>\n",
    "<font color=blue>3) Defining the features and target dataframes.</font><br>\n",
    "<font color=blue>4) Splitting the data into training and testing data.</font>"
   ]
  },
  {
   "cell_type": "code",
   "execution_count": 4,
   "id": "43fcf246-c368-471a-8c8d-047b68ef5d2a",
   "metadata": {},
   "outputs": [],
   "source": [
    "# These Dictionary will be used to replace NaNs in the dataframes\n",
    "median_nan={}\n",
    "for col_name in wine.columns[1:]:\n",
    "    median_nan[col_name]=wine[col_name].median()"
   ]
  },
  {
   "cell_type": "code",
   "execution_count": 5,
   "id": "0301bee4-338c-4431-a847-3a1c85653067",
   "metadata": {},
   "outputs": [],
   "source": [
    "# Applying log function to the heavily skewed features\n",
    "skewed_features=['residual sugar', 'chlorides', 'free sulfur dioxide', 'total sulfur dioxide', 'sulphates']\n",
    "for feature in skewed_features:\n",
    "    wine[feature] = np.log(wine[feature])"
   ]
  },
  {
   "cell_type": "code",
   "execution_count": 6,
   "id": "39cb995f-d512-4c92-b85c-1f469fb84cb8",
   "metadata": {},
   "outputs": [],
   "source": [
    "# define features and target\n",
    "wine_features=wine.iloc[:,:-1]\n",
    "wine_target=wine.iloc[:,-1]"
   ]
  },
  {
   "cell_type": "code",
   "execution_count": 7,
   "id": "5ad54a6e-13f8-4468-b208-8477adacbab7",
   "metadata": {},
   "outputs": [],
   "source": [
    "# Train-test data Splitting\n",
    "w_train_f, w_test_f, w_train_t, w_test_t = train_test_split(wine_features, wine_target, random_state=42, test_size=0.1)"
   ]
  },
  {
   "cell_type": "markdown",
   "id": "c3c80c14-cbb7-482b-953b-2ad1285cb278",
   "metadata": {
    "tags": []
   },
   "source": [
    "## <font color=green>baseline models</font>"
   ]
  },
  {
   "cell_type": "markdown",
   "id": "517d48db-7629-4637-a690-dd41a8659c12",
   "metadata": {},
   "source": [
    "<font color=blue>Five models will be applied. The required model could be a classification or regression one, because the classes are ordered.</font>"
   ]
  },
  {
   "cell_type": "markdown",
   "id": "14a15589-fede-4432-ad3c-b3850bcced28",
   "metadata": {
    "tags": []
   },
   "source": [
    "### <font color=blueviolet>using Regression</font>"
   ]
  },
  {
   "cell_type": "markdown",
   "id": "2722948b-cf77-403d-90fc-4501d68a39b2",
   "metadata": {},
   "source": [
    "<font color=black>The first two models don't have the class_weight='balanced' argument, so SMOTE is applied to balance the classes.</font>"
   ]
  },
  {
   "cell_type": "code",
   "execution_count": 8,
   "id": "d902f55d-35b4-486d-9f27-332d2ec7f32a",
   "metadata": {
    "tags": []
   },
   "outputs": [],
   "source": [
    "#apply SMOTE\n",
    "f, t=resample_data_smote(w_train_f, w_train_t)\n",
    "\n",
    "# features scaling\n",
    "scaler = StandardScaler()\n",
    "features_train_scaled = scaler.fit_transform(f)\n",
    "features_test_scaled = scaler.transform(w_test_f)\n",
    "features_train_scaled = pd.DataFrame(features_train_scaled,columns=w_train_f.columns)\n",
    "features_test_scaled = pd.DataFrame(features_test_scaled,columns=w_test_f.columns)\n",
    "\n",
    "# LinearRegression\n",
    "model_reg=LinearRegression()\n",
    "model_reg.fit(features_train_scaled,t)\n",
    "\n",
    "# Calculate and save model performances \n",
    "score_sum=[]\n",
    "target_pred=model_reg.predict(features_train_scaled)\n",
    "target_pred=np.rint(target_pred)\n",
    "train_accuracy=accuracy_score(t,target_pred)\n",
    "\n",
    "target_pred=model_reg.predict(features_test_scaled)\n",
    "target_pred=np.rint(target_pred)\n",
    "test_accuracy=accuracy_score(w_test_t,target_pred)\n",
    "\n",
    "score_sum.append({'name':'LinearRegression     ','train':train_accuracy,'test':test_accuracy})"
   ]
  },
  {
   "cell_type": "markdown",
   "id": "1b53dff8-0678-4f33-b909-5d31b98d135c",
   "metadata": {},
   "source": [
    "<font color=blue>The second model will be the RandomForestRegressor.</font>"
   ]
  },
  {
   "cell_type": "code",
   "execution_count": 9,
   "id": "b3f07a1c-9d39-46a4-9bfa-584911bacef6",
   "metadata": {
    "tags": []
   },
   "outputs": [],
   "source": [
    "# RandomForestRegressor\n",
    "model_rfr=RandomForestRegressor(random_state=42)\n",
    "model_rfr.fit(features_train_scaled,t)\n",
    "\n",
    "# Calculate and save model performances \n",
    "target_pred=model_rfr.predict(features_train_scaled)\n",
    "target_pred=np.rint(target_pred)\n",
    "train_accuracy=accuracy_score(t,target_pred)\n",
    "\n",
    "target_pred=model_rfr.predict(features_test_scaled)\n",
    "target_pred=np.rint(target_pred)\n",
    "test_accuracy=accuracy_score(w_test_t,target_pred)\n",
    "\n",
    "score_sum.append({'name':'RandomForestRegressor     ','train':train_accuracy,'test':test_accuracy})"
   ]
  },
  {
   "cell_type": "markdown",
   "id": "a39c235d-b69a-4cfe-89cb-012af7474c6f",
   "metadata": {
    "tags": []
   },
   "source": [
    "<font color=orange>The other models have the argument \"class_weight\", which is far the better option for balancing the classes, and hence there is no more need for SMOTE.</font>"
   ]
  },
  {
   "cell_type": "code",
   "execution_count": 10,
   "id": "a626e0a2-fa26-4248-8fde-1771846b5b6f",
   "metadata": {},
   "outputs": [],
   "source": [
    "# features scaling\n",
    "scaler = StandardScaler()\n",
    "features_train_scaled = scaler.fit_transform(w_train_f)\n",
    "features_test_scaled = scaler.transform(w_test_f)\n",
    "features_train_scaled = pd.DataFrame(features_train_scaled,columns=w_train_f.columns)\n",
    "features_test_scaled = pd.DataFrame(features_test_scaled,columns=w_test_f.columns)"
   ]
  },
  {
   "cell_type": "markdown",
   "id": "ca0422fd-eae2-4925-b4fe-efdfba98455f",
   "metadata": {},
   "source": [
    "<font color=black>The third model will be the LogisticRegression.</font>"
   ]
  },
  {
   "cell_type": "code",
   "execution_count": 11,
   "id": "4f1ea33f-76a4-42e5-86ac-61f7ccab40b1",
   "metadata": {},
   "outputs": [],
   "source": [
    "# LogisticRegression\n",
    "model_log=LogisticRegression(class_weight='balanced',multi_class='multinomial',random_state=42)\n",
    "model_log.fit(features_train_scaled,w_train_t)\n",
    "\n",
    "# Calculate and save model performances \n",
    "target_pred=model_log.predict(features_train_scaled)\n",
    "train_accuracy=accuracy_score(w_train_t,target_pred)\n",
    "\n",
    "target_pred=model_log.predict(features_test_scaled)\n",
    "test_accuracy=accuracy_score(w_test_t,target_pred)\n",
    "\n",
    "score_sum.append({'name':'LogisticRegression     ','train':train_accuracy,'test':test_accuracy})"
   ]
  },
  {
   "cell_type": "markdown",
   "id": "36cdfcc2-4fd9-48d0-85fe-df481cc1ae72",
   "metadata": {
    "tags": []
   },
   "source": [
    "### <font color=blueviolet>using Classification</font>"
   ]
  },
  {
   "cell_type": "markdown",
   "id": "a243057f-5d99-4e8c-a789-1f794ea9a22c",
   "metadata": {},
   "source": [
    "<font color=black>The last two models are pure classifiers.</font>"
   ]
  },
  {
   "cell_type": "code",
   "execution_count": 12,
   "id": "07896293-5cd1-4985-bd37-12f4ce88a936",
   "metadata": {
    "tags": []
   },
   "outputs": [],
   "source": [
    "# RandomForestClassifier\n",
    "model_rf=RandomForestClassifier(class_weight='balanced',random_state=42)\n",
    "model_rf.fit(w_train_f,w_train_t)\n",
    "\n",
    "# Calculate and save model performances \n",
    "target_pred=model_rf.predict(w_train_f)\n",
    "train_accuracy=accuracy_score(w_train_t,target_pred)\n",
    "\n",
    "target_pred=model_rf.predict(w_test_f)\n",
    "test_accuracy=accuracy_score(w_test_t,target_pred)\n",
    "\n",
    "score_sum.append({'name':'RandomForestClassifier     ','train':train_accuracy,'test':test_accuracy})"
   ]
  },
  {
   "cell_type": "markdown",
   "id": "313a2126-52ed-4972-9e24-463707419a56",
   "metadata": {},
   "source": [
    "<font color=blue>The artificial neural network is the last model analyzed.</font>"
   ]
  },
  {
   "cell_type": "code",
   "execution_count": 13,
   "id": "fe48b076-f4c8-47c8-aaba-2acbface6590",
   "metadata": {},
   "outputs": [
    {
     "name": "stderr",
     "output_type": "stream",
     "text": [
      "2023-06-14 15:41:04.223769: I tensorflow/compiler/jit/xla_cpu_device.cc:41] Not creating XLA devices, tf_xla_enable_xla_devices not set\n",
      "2023-06-14 15:41:04.224066: W tensorflow/stream_executor/platform/default/dso_loader.cc:60] Could not load dynamic library 'libcuda.so.1'; dlerror: libcuda.so.1: cannot open shared object file: No such file or directory\n",
      "2023-06-14 15:41:04.224081: W tensorflow/stream_executor/cuda/cuda_driver.cc:326] failed call to cuInit: UNKNOWN ERROR (303)\n",
      "2023-06-14 15:41:04.224106: I tensorflow/stream_executor/cuda/cuda_diagnostics.cc:156] kernel driver does not appear to be running on this host (fac37137a31a): /proc/driver/nvidia/version does not exist\n",
      "2023-06-14 15:41:04.224343: I tensorflow/core/platform/cpu_feature_guard.cc:142] This TensorFlow binary is optimized with oneAPI Deep Neural Network Library (oneDNN) to use the following CPU instructions in performance-critical operations:  AVX2 FMA\n",
      "To enable them in other operations, rebuild TensorFlow with the appropriate compiler flags.\n",
      "2023-06-14 15:41:04.227191: I tensorflow/compiler/jit/xla_gpu_device.cc:99] Not creating XLA devices, tf_xla_enable_xla_devices not set\n",
      "2023-06-14 15:41:04.292653: I tensorflow/compiler/mlir/mlir_graph_optimization_pass.cc:116] None of the MLIR optimization passes are enabled (registered 2)\n",
      "2023-06-14 15:41:04.311768: I tensorflow/core/platform/profile_utils/cpu_utils.cc:112] CPU Frequency: 2495445000 Hz\n"
     ]
    }
   ],
   "source": [
    "# ANN\n",
    "warnings.filterwarnings('ignore')\n",
    "model_ann = Sequential() \n",
    "hidden_layer = Dense(units=50, activation= 'relu', input_dim=w_train_f.shape[1])\n",
    "output_layer = Dense(units=1,activation= 'linear')\n",
    "model_ann.add(hidden_layer)\n",
    "model_ann.add(output_layer)\n",
    "model_ann.compile(optimizer='adam', loss='mse', metrics=['mean_squared_error'])\n",
    "model_ann.fit(w_train_f, w_train_t, epochs=50, batch_size=64,verbose=False)\n",
    "\n",
    "# Calculate and save model performances \n",
    "target_pred=model_ann.predict(w_train_f)\n",
    "target_pred=np.rint(target_pred)\n",
    "train_accuracy=accuracy_score(w_train_t,target_pred)\n",
    "\n",
    "target_pred=model_ann.predict(w_test_f)\n",
    "target_pred=np.rint(target_pred)\n",
    "test_accuracy=accuracy_score(w_test_t,target_pred)\n",
    "\n",
    "score_sum.append({'name':'         ANN        ','train':train_accuracy,'test':test_accuracy})\n",
    "warnings.filterwarnings('ignore')"
   ]
  },
  {
   "cell_type": "markdown",
   "id": "72c2aaf1-e762-4ffd-b05a-0ccd5bc4ddae",
   "metadata": {},
   "source": [
    "<font color=blue>The table below summarizes the results of applying the five models.</font>"
   ]
  },
  {
   "cell_type": "code",
   "execution_count": 14,
   "id": "89a66a68-7f46-4958-83e6-b34902f5c2d2",
   "metadata": {},
   "outputs": [
    {
     "name": "stdout",
     "output_type": "stream",
     "text": [
      "         Modell                          train accuracy             test accuracy\n",
      "---------------------------------------------------------------------------------\n",
      "   LinearRegression                            0.31                     0.40\n",
      "---------------------------------------------------------------------------------\n",
      "   RandomForestRegressor                       0.99                     0.66\n",
      "---------------------------------------------------------------------------------\n",
      "   LogisticRegression                          0.35                     0.33\n",
      "---------------------------------------------------------------------------------\n",
      "   RandomForestClassifier                      1.00                     0.70\n",
      "---------------------------------------------------------------------------------\n",
      "            ANN                                0.54                     0.55\n",
      "---------------------------------------------------------------------------------\n"
     ]
    }
   ],
   "source": [
    "print('         Modell                          train accuracy             test accuracy')\n",
    "print('---------------------------------------------------------------------------------')\n",
    "for i in range(len(score_sum)):\n",
    "    print('   {:40s}    {:.2f}                     {:.2f}'.format(score_sum[i]['name'],score_sum[i]['train'],score_sum[i]['test']))\n",
    "    print('---------------------------------------------------------------------------------')"
   ]
  },
  {
   "cell_type": "markdown",
   "id": "c1edce5a-7202-4cfc-aaa4-029ed83e594d",
   "metadata": {},
   "source": [
    "<font color=black>All models suffer from overfitting.<br>\n",
    "RandomForestClassifier gives the best results and will therefore be optimized later.</font>"
   ]
  },
  {
   "cell_type": "markdown",
   "id": "32897d44-414d-4221-a02f-145b519f38f3",
   "metadata": {
    "tags": []
   },
   "source": [
    "### <font color=blueviolet>features importance</font>"
   ]
  },
  {
   "cell_type": "markdown",
   "id": "993a2af2-be61-435c-a5b1-9b9ec58b8eab",
   "metadata": {},
   "source": [
    "<font color=blue>The results of the RandomForestClassifier will be used to evaluate the relative importance of the features.</font>"
   ]
  },
  {
   "cell_type": "code",
   "execution_count": 15,
   "id": "1c6350a3-09b1-443f-9cf0-c3285fc787c0",
   "metadata": {},
   "outputs": [
    {
     "data": {
      "text/html": [
       "<div>\n",
       "<style scoped>\n",
       "    .dataframe tbody tr th:only-of-type {\n",
       "        vertical-align: middle;\n",
       "    }\n",
       "\n",
       "    .dataframe tbody tr th {\n",
       "        vertical-align: top;\n",
       "    }\n",
       "\n",
       "    .dataframe thead th {\n",
       "        text-align: right;\n",
       "    }\n",
       "</style>\n",
       "<table border=\"1\" class=\"dataframe\">\n",
       "  <thead>\n",
       "    <tr style=\"text-align: right;\">\n",
       "      <th></th>\n",
       "      <th>0</th>\n",
       "    </tr>\n",
       "  </thead>\n",
       "  <tbody>\n",
       "    <tr>\n",
       "      <th>density</th>\n",
       "      <td>0.111433</td>\n",
       "    </tr>\n",
       "    <tr>\n",
       "      <th>alcohol</th>\n",
       "      <td>0.109481</td>\n",
       "    </tr>\n",
       "    <tr>\n",
       "      <th>chlorides</th>\n",
       "      <td>0.105375</td>\n",
       "    </tr>\n",
       "    <tr>\n",
       "      <th>free sulfur dioxide</th>\n",
       "      <td>0.094118</td>\n",
       "    </tr>\n",
       "    <tr>\n",
       "      <th>fixed acidity</th>\n",
       "      <td>0.088780</td>\n",
       "    </tr>\n",
       "    <tr>\n",
       "      <th>volatile acidity</th>\n",
       "      <td>0.087972</td>\n",
       "    </tr>\n",
       "    <tr>\n",
       "      <th>pH</th>\n",
       "      <td>0.087135</td>\n",
       "    </tr>\n",
       "    <tr>\n",
       "      <th>total sulfur dioxide</th>\n",
       "      <td>0.087087</td>\n",
       "    </tr>\n",
       "    <tr>\n",
       "      <th>residual sugar</th>\n",
       "      <td>0.080852</td>\n",
       "    </tr>\n",
       "    <tr>\n",
       "      <th>sulphates</th>\n",
       "      <td>0.072237</td>\n",
       "    </tr>\n",
       "    <tr>\n",
       "      <th>citric acid</th>\n",
       "      <td>0.071678</td>\n",
       "    </tr>\n",
       "    <tr>\n",
       "      <th>type</th>\n",
       "      <td>0.003853</td>\n",
       "    </tr>\n",
       "  </tbody>\n",
       "</table>\n",
       "</div>"
      ],
      "text/plain": [
       "                             0\n",
       "density               0.111433\n",
       "alcohol               0.109481\n",
       "chlorides             0.105375\n",
       "free sulfur dioxide   0.094118\n",
       "fixed acidity         0.088780\n",
       "volatile acidity      0.087972\n",
       "pH                    0.087135\n",
       "total sulfur dioxide  0.087087\n",
       "residual sugar        0.080852\n",
       "sulphates             0.072237\n",
       "citric acid           0.071678\n",
       "type                  0.003853"
      ]
     },
     "execution_count": 15,
     "metadata": {},
     "output_type": "execute_result"
    }
   ],
   "source": [
    "# print ordered feature_importance \n",
    "feature_imp=pd.DataFrame(model_rf.feature_importances_, index=w_train_f.columns).sort_values(by=0, ascending=False)\n",
    "feature_imp"
   ]
  },
  {
   "cell_type": "markdown",
   "id": "68460185-3ee7-4fbb-8c86-5890647f9f1f",
   "metadata": {},
   "source": [
    "<font color=blue>These results can also be displayed as a chart.</font>"
   ]
  },
  {
   "cell_type": "code",
   "execution_count": 16,
   "id": "6883113f-1f24-4525-bd8d-7d1f83d3d3b2",
   "metadata": {},
   "outputs": [
    {
     "data": {
      "image/png": "[encoded data removed]",
      "text/plain": [
       "<Figure size 720x720 with 1 Axes>"
      ]
     },
     "metadata": {
      "needs_background": "light"
     },
     "output_type": "display_data"
    }
   ],
   "source": [
    "# showing the feature_importance chart\n",
    "fig, ax = plt.subplots(figsize=[10,10])\n",
    "sns.barplot(x=feature_imp[0], y=feature_imp.index)\n",
    "sns.set(font_scale=1.5)\n",
    "plt.xlabel('Feature Importance Score');"
   ]
  },
  {
   "cell_type": "markdown",
   "id": "6755b613-de89-4f22-b60e-494e88a035a4",
   "metadata": {},
   "source": [
    "<font color=blue>Surprisingly, the type of wine hardly plays a role in the classification!</font>"
   ]
  },
  {
   "cell_type": "markdown",
   "id": "07430e06-a7c5-4a2e-b292-a3a529abc5bf",
   "metadata": {},
   "source": [
    "### <font color=green>optimizing the final model with grid search</font>"
   ]
  },
  {
   "cell_type": "markdown",
   "id": "8615ff36-6a4c-44bf-8bd4-97cf8dd79e08",
   "metadata": {},
   "source": [
    "<font color=black>The hyperparameter of the best model , \"RandomForestClassifier\", will be included in a pipeline along with  the Prinicipal Component Analysis, PCA. Then the Hyperparameters will tuned using GridSearchCV.</font>"
   ]
  },
  {
   "cell_type": "code",
   "execution_count": 17,
   "id": "46d39f21-5809-43a3-9f2f-12541cf0070f",
   "metadata": {},
   "outputs": [
    {
     "name": "stdout",
     "output_type": "stream",
     "text": [
      "accuracy ot the training set 0.6384495477908652\n",
      "accuracy ot the testing set 0.6338461538461538\n"
     ]
    }
   ],
   "source": [
    "# Omission of the feature \"type\" because it does not play a role in the classification\n",
    "w_train_f = w_train_f.drop('type', axis=1)\n",
    "w_test_f = w_test_f.drop('type', axis=1)\n",
    "\n",
    "# Defining the appropriate pipeline\n",
    "model_pipeline = Pipeline([('pca', PCA()),\n",
    "                           ('rfc', RandomForestClassifier(class_weight='balanced',random_state=42))\n",
    "                          ])\n",
    "\n",
    "# n_components: number of kept components\n",
    "# max_depth : Maximum number of levels in tree\n",
    "# min_samples_leaf : Minimum number of samples required at each leaf node\n",
    "search_space = {'pca__n_components' : [8,9,10],\n",
    "                     'rfc__max_depth': np.geomspace(start=5, stop=50, num=10, dtype='int'),\n",
    "                     'rfc__min_samples_leaf': np.geomspace(start=5, stop=50, num=10, dtype='int')\n",
    "                    }\n",
    "opt_model=GridSearchCV(estimator=model_pipeline,\n",
    "                       param_grid=search_space,\n",
    "                       scoring='accuracy',\n",
    "                       cv=5,\n",
    "                       n_jobs=-1\n",
    "                      )\n",
    "\n",
    "opt_model.fit(w_train_f, w_train_t)\n",
    "\n",
    "# Calculate and save model performances \n",
    "print(\"accuracy ot the training set\",opt_model.best_score_)\n",
    "target_pred = opt_model.predict(w_test_f)\n",
    "test_accuracy = accuracy_score(w_test_t, target_pred)\n",
    "print(\"accuracy ot the testing set\",test_accuracy)"
   ]
  },
  {
   "cell_type": "markdown",
   "id": "c9593855-3f9d-49ac-80da-116d0260f854",
   "metadata": {},
   "source": [
    "<font color=black>The accuracy of this multiclass classifier reaches 64% and does not suffer from overfitting.</font>"
   ]
  },
  {
   "cell_type": "markdown",
   "id": "8e38cc4d-3123-46c1-9027-33862afdb666",
   "metadata": {},
   "source": [
    "<font color=blue>In the following, the accuracy is calculated when the output is tolerated with 0, 1 or 2.</font>"
   ]
  },
  {
   "cell_type": "code",
   "execution_count": 18,
   "id": "4de906a6-8c25-471d-9feb-e9e0aadd14aa",
   "metadata": {},
   "outputs": [
    {
     "name": "stdout",
     "output_type": "stream",
     "text": [
      "with 0 quality tolerance is the accuracy 63%\n",
      "with 1 quality tolerance is the accuracy 95%\n",
      "with 2 quality tolerance is the accuracy 100%\n"
     ]
    }
   ],
   "source": [
    "# Accuracy with 0 tolerance\n",
    "mask0=abs(w_test_t- target_pred)==0\n",
    "print('with 0 quality tolerance is the accuracy {:.0f}%'.format(100*mask0.sum()/w_test_t.shape[0]))\n",
    "\n",
    "# Accuracy with 1 tolerance\n",
    "mask1=abs(w_test_t- target_pred)<=1\n",
    "print('with 1 quality tolerance is the accuracy {:.0f}%'.format(100*mask1.sum()/w_test_t.shape[0]))\n",
    "\n",
    "# Accuracy with 2 tolerance\n",
    "mask2=abs(w_test_t- target_pred)<=2\n",
    "print('with 2 quality tolerance is the accuracy {:.0f}%'.format(100*mask2.sum()/w_test_t.shape[0]))"
   ]
  },
  {
   "cell_type": "markdown",
   "id": "59d758d4-8229-48d0-b11a-d9991ddc5f94",
   "metadata": {},
   "source": [
    "<font color=blue>The best model is saved to a binary file using \"pickle\".</font>"
   ]
  },
  {
   "cell_type": "code",
   "execution_count": 19,
   "id": "d5ffd072-42f7-4fcf-a367-142471db4777",
   "metadata": {},
   "outputs": [],
   "source": [
    "# save the best model\n",
    "pickle.dump(opt_model,open('opt_model.p','wb'))"
   ]
  }
 ],
 "metadata": {
  "kernelspec": {
   "display_name": "Python 3 (ipykernel)",
   "language": "python",
   "name": "python3"
  },
  "language_info": {
   "codemirror_mode": {
    "name": "ipython",
    "version": 3
   },
   "file_extension": ".py",
   "mimetype": "text/x-python",
   "name": "python",
   "nbconvert_exporter": "python",
   "pygments_lexer": "ipython3",
   "version": "3.8.10"
  }
 },
 "nbformat": 4,
 "nbformat_minor": 5
}
